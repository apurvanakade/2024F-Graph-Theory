{
 "cells": [
  {
   "cell_type": "code",
   "execution_count": 685,
   "metadata": {},
   "outputs": [],
   "source": [
    "import igraph as ig\n",
    "import matplotlib.pyplot as plt\n",
    "import numpy as np\n",
    "from copy import deepcopy"
   ]
  },
  {
   "cell_type": "code",
   "execution_count": 686,
   "metadata": {},
   "outputs": [],
   "source": [
    "def draw_graph(g):\n",
    "    fig, ax = plt.subplots(figsize=(3, 3))\n",
    "    ig.plot(\n",
    "        g,\n",
    "        target=ax,\n",
    "        # layout = petersen.layout(\"sphere\"),\n",
    "        vertex_size=30,\n",
    "        vertex_label=range(10),\n",
    "        vertex_color=\"lightblue\",\n",
    "        edge_width=[3],\n",
    "        edge_color=[\"black\"]\n",
    "    )"
   ]
  },
  {
   "cell_type": "code",
   "execution_count": 687,
   "metadata": {},
   "outputs": [],
   "source": [
    "g = ig.Graph([(0, 1), (0, 2)])"
   ]
  },
  {
   "cell_type": "code",
   "execution_count": 688,
   "metadata": {},
   "outputs": [],
   "source": [
    "# print(g.vcount())\n",
    "# draw_graph(g)\n",
    "# g.contract_vertices([0, 1, 1])\n",
    "# print(g.vcount())\n",
    "# g.simplify()\n",
    "# print(g.vcount())\n",
    "# draw_graph(g)"
   ]
  },
  {
   "cell_type": "code",
   "execution_count": null,
   "metadata": {},
   "outputs": [],
   "source": []
  },
  {
   "cell_type": "code",
   "execution_count": 689,
   "metadata": {},
   "outputs": [],
   "source": [
    "def collapse_edge_mapping(g, e):\n",
    "  for e in g.es: \n",
    "    mapping = np.array(range(g.vcount()))\n",
    "    mapping[e.target] = e.source\n",
    "    print(mapping)\n",
    "    return mapping"
   ]
  },
  {
   "cell_type": "code",
   "execution_count": 690,
   "metadata": {},
   "outputs": [],
   "source": [
    "def collapse_edge(g, e):\n",
    "  v1 = min(e.source, e.target)\n",
    "  v2 = max(e.source, e.target)\n",
    "  l = []\n",
    "  for (x, y) in g.get_edgelist():\n",
    "    v3 = min(x, y)\n",
    "    v4 = max(x, y)\n",
    "    if v3 == v2:\n",
    "      v3 = v1\n",
    "    if v4 == v2:\n",
    "      v4 = v1\n",
    "    l.append((v3, v4))\n",
    "  return (ig.Graph(n = g.vcount() - 1, edges = l)).simplify()"
   ]
  },
  {
   "cell_type": "code",
   "execution_count": 691,
   "metadata": {},
   "outputs": [],
   "source": [
    "# function: input graph and computes the number of minimum spanning trees recursively\n",
    "def MST(g):\n",
    "    n = 0\n",
    "    if g.ecount() == 0:\n",
    "        if g.vcount() == 1:\n",
    "            # print(\"found MST\")\n",
    "            n = 1\n",
    "        else:\n",
    "            # print(\"found no MST\")\n",
    "            n = 0\n",
    "    else:\n",
    "        for e in g.es:\n",
    "            g1 = deepcopy(g)\n",
    "            # print(\"delete edge\", e.tuple, \"from\", g1.get_edgelist(), \"with vcount\", g1.vcount())\n",
    "            g1.delete_edges(e.tuple)\n",
    "            n1 = MST(g1)\n",
    "\n",
    "            g2 = deepcopy(g)\n",
    "            print(\"collapse edge\", e.tuple, \"from\", g2.get_edgelist(), \"with vcount\", g2.vcount())\n",
    "            # g2 = collapse_edge(g2, e)\n",
    "            mapping = collapse_edge_mapping(g2, e)\n",
    "            g2.contract_vertices(mapping)\n",
    "            g2.simplify()\n",
    "            print(\"after collapsing\", e.tuple, \"to\", g2.get_edgelist(), \"with vcount\", g2.vcount())\n",
    "            # g2.delete_vertices([e.target])\n",
    "            n2 = MST(g2)\n",
    "\n",
    "            n += n1 + n2\n",
    "        \n",
    "    # draw_graph(g)\n",
    "    # print(\"MST(\", g.get_edgelist(), g.vcount(), \") =\", n)\n",
    "    return n\n"
   ]
  },
  {
   "cell_type": "code",
   "execution_count": 692,
   "metadata": {},
   "outputs": [
    {
     "name": "stdout",
     "output_type": "stream",
     "text": [
      "collapse edge (0, 2) from [(0, 2)] with vcount 3\n",
      "[0 1 0]\n",
      "after collapsing (0, 2) to [] with vcount 2\n",
      "collapse edge (0, 1) from [(0, 1), (0, 2)] with vcount 3\n",
      "[0 0 2]\n",
      "after collapsing (0, 1) to [(0, 2)] with vcount 3\n",
      "collapse edge (0, 2) from [(0, 2)] with vcount 3\n",
      "[0 1 0]\n",
      "after collapsing (0, 2) to [] with vcount 2\n",
      "collapse edge (0, 1) from [(0, 1)] with vcount 3\n",
      "[0 0 2]\n",
      "after collapsing (0, 1) to [] with vcount 3\n",
      "collapse edge (0, 2) from [(0, 1), (0, 2)] with vcount 3\n",
      "[0 0 2]\n",
      "after collapsing (0, 2) to [(0, 2)] with vcount 3\n",
      "collapse edge (0, 2) from [(0, 2)] with vcount 3\n",
      "[0 1 0]\n",
      "after collapsing (0, 2) to [] with vcount 2\n"
     ]
    },
    {
     "data": {
      "text/plain": [
       "0"
      ]
     },
     "execution_count": 692,
     "metadata": {},
     "output_type": "execute_result"
    }
   ],
   "source": [
    "# call the function\n",
    "MST(g)"
   ]
  },
  {
   "cell_type": "code",
   "execution_count": 693,
   "metadata": {},
   "outputs": [],
   "source": [
    "# def contract_and_simplify(g, e):\n",
    "#     g.contract_vertices([e.source, e.target])\n",
    "#     g.simplify()\n",
    "#     return g\n",
    "\n"
   ]
  }
 ],
 "metadata": {
  "kernelspec": {
   "display_name": "Python 3",
   "language": "python",
   "name": "python3"
  },
  "language_info": {
   "codemirror_mode": {
    "name": "ipython",
    "version": 3
   },
   "file_extension": ".py",
   "mimetype": "text/x-python",
   "name": "python",
   "nbconvert_exporter": "python",
   "pygments_lexer": "ipython3",
   "version": "3.9.6"
  }
 },
 "nbformat": 4,
 "nbformat_minor": 2
}
